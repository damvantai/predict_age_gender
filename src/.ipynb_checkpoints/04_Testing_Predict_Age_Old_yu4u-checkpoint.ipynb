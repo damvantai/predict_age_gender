{
 "cells": [
  {
   "cell_type": "code",
   "execution_count": 1,
   "metadata": {},
   "outputs": [
    {
     "name": "stderr",
     "output_type": "stream",
     "text": [
      "Using TensorFlow backend.\n"
     ]
    }
   ],
   "source": [
    "import os\n",
    "import cv2\n",
    "import dlib\n",
    "import numpy as np\n",
    "import argparse\n",
    "from contextlib import contextmanager\n",
    "from wide_resnet import WideResNet\n",
    "from keras.utils.data_utils import get_file\n"
   ]
  },
  {
   "cell_type": "code",
   "execution_count": 2,
   "metadata": {},
   "outputs": [],
   "source": [
    "pretrained_model = \"/home/neosai/Documents/projects/predict_age_gender/weights/weights.29-3.76_utk.hdf5\""
   ]
  },
  {
   "cell_type": "code",
   "execution_count": 3,
   "metadata": {},
   "outputs": [],
   "source": [
    "def draw_label(image, point, label, font=cv2.FONT_HERSHEY_SIMPLEX,\n",
    "               font_scale=1, thickness=2):\n",
    "    size = cv2.getTextSize(label, font, font_scale, thickness)[0]\n",
    "    x, y = point\n",
    "    cv2.rectangle(image, (x, y - size[1]), (x + size[0], y), (255, 0, 0), cv2.FILLED)\n",
    "    cv2.putText(image, label, point, font, font_scale, (255, 255, 255), thickness)"
   ]
  },
  {
   "cell_type": "code",
   "execution_count": 4,
   "metadata": {},
   "outputs": [],
   "source": [
    "depth = 16\n",
    "k = 8\n",
    "margin = 0.4\n",
    "img_size = 64\n",
    "\n",
    "detector = dlib.get_frontal_face_detector()\n",
    "\n",
    "model = WideResNet(img_size, depth=depth, k=k)()\n",
    "model.load_weights(pretrained_model)"
   ]
  },
  {
   "cell_type": "code",
   "execution_count": 5,
   "metadata": {},
   "outputs": [],
   "source": [
    "img = cv2.imread(\"../data/test/download (1).jpeg\")"
   ]
  },
  {
   "cell_type": "code",
   "execution_count": 9,
   "metadata": {},
   "outputs": [
    {
     "name": "stdout",
     "output_type": "stream",
     "text": [
      "0\n"
     ]
    }
   ],
   "source": [
    "input_img = cv2.cvtColor(img, cv2.COLOR_BGR2RGB)\n",
    "img_h, img_w, _ = np.shape(input_img)\n",
    "\n",
    "detected = detector(input_img, 1)\n",
    "faces = np.empty((len(detected), img_size, img_size, 3))\n",
    "print(len(detected))\n",
    "if len(detected) > 0:\n",
    "    for i, d in enumerate(detected):\n",
    "        x1, y1, x2, y2, w, h = d.left(), d.top(), d.right() + 1, d.bottom() + 1, d.width(), d.height()\n",
    "        xw1 = max(int(x1 - margin * w), 0)\n",
    "        yw1 = max(int(y1 - margin * h), 0)\n",
    "        xw2 = min(int(x2 + margin * w), img_w - 1)\n",
    "        yw2 = min(int(y2 + margin * h), img_h - 1)\n",
    "        cv2.rectangle(img, (x1, y1), (x2, y2), (255, 0, 0), 2)\n",
    "        # cv2.rectangle(img, (xw1, yw1), (xw2, yw2), (255, 0, 0), 2)\n",
    "        faces[i, :, :, :] = cv2.resize(img[yw1:yw2 + 1, xw1:xw2 + 1, :], (img_size, img_size))\n",
    "        \n",
    "    results = model.predict(faces)\n",
    "    predicted_genders = results[0]\n",
    "    ages = np.arange(0, 101).reshape(101, 1)\n",
    "    predicted_ages = results[1].dot(ages).flatten()\n",
    "\n",
    "    # draw results\n",
    "    for i, d in enumerate(detected):\n",
    "        label = \"{}, {}\".format(int(predicted_ages[i]),\n",
    "                                \"F\" if predicted_genders[i][0] > 0.5 else \"M\")\n",
    "        draw_label(img, (d.left(), d.top()), label)   \n",
    "    \n",
    "    plt.imshow(img)"
   ]
  },
  {
   "cell_type": "code",
   "execution_count": null,
   "metadata": {},
   "outputs": [],
   "source": []
  }
 ],
 "metadata": {
  "kernelspec": {
   "display_name": "Python 3",
   "language": "python",
   "name": "python3"
  },
  "language_info": {
   "codemirror_mode": {
    "name": "ipython",
    "version": 3
   },
   "file_extension": ".py",
   "mimetype": "text/x-python",
   "name": "python",
   "nbconvert_exporter": "python",
   "pygments_lexer": "ipython3",
   "version": "3.6.5"
  }
 },
 "nbformat": 4,
 "nbformat_minor": 2
}

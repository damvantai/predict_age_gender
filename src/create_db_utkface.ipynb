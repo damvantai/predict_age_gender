{
 "cells": [
  {
   "cell_type": "code",
   "execution_count": 2,
   "metadata": {},
   "outputs": [],
   "source": [
    "from pathlib import Path\n",
    "from tqdm import tqdm\n",
    "import numpy as np\n",
    "import scipy.io\n",
    "import cv2"
   ]
  },
  {
   "cell_type": "code",
   "execution_count": 8,
   "metadata": {},
   "outputs": [],
   "source": [
    "image_dir = Path(\"/home/damvantai/Documents/projects/predict_age_gender/data/UTKFace/\")"
   ]
  },
  {
   "cell_type": "code",
   "execution_count": 9,
   "metadata": {},
   "outputs": [],
   "source": [
    "output_path = \"/home/damvantai/Documents/projects/predict_age_gender/data/output/\""
   ]
  },
  {
   "cell_type": "code",
   "execution_count": 12,
   "metadata": {},
   "outputs": [],
   "source": [
    "img_size = 200\n",
    "out_genders = []\n",
    "out_ages = []\n",
    "out_imgs = []"
   ]
  },
  {
   "cell_type": "code",
   "execution_count": null,
   "metadata": {},
   "outputs": [
    {
     "name": "stderr",
     "output_type": "stream",
     "text": [
      "23708it [02:42, 145.55it/s]\n"
     ]
    }
   ],
   "source": [
    "for i, image_path in enumerate(tqdm(image_dir.glob(\"*.jpg\"))):\n",
    "    image_name = image_path.name\n",
    "    age, gender = image_name.split(\"_\")[:2]\n",
    "    out_genders.append(int(gender))\n",
    "    out_ages.append(min(int(age), 100))\n",
    "    img = cv2.imread(str(image_path))\n",
    "    out_imgs.append(cv2.resize(img, (img_size, img_size)))\n",
    "output = {\"image\": np.array(out_imgs), \"gender\": np.array(out_genders),\n",
    "         \"age\": np.array(out_ages), \"db\": \"utk\", \"img_size\": img_size, \"min_score\": -1}\n",
    "scipy.io.savemat(output_path, output)"
   ]
  },
  {
   "cell_type": "code",
   "execution_count": null,
   "metadata": {},
   "outputs": [],
   "source": []
  }
 ],
 "metadata": {
  "kernelspec": {
   "display_name": "Python 3",
   "language": "python",
   "name": "python3"
  },
  "language_info": {
   "codemirror_mode": {
    "name": "ipython",
    "version": 3
   },
   "file_extension": ".py",
   "mimetype": "text/x-python",
   "name": "python",
   "nbconvert_exporter": "python",
   "pygments_lexer": "ipython3",
   "version": "3.6.5"
  }
 },
 "nbformat": 4,
 "nbformat_minor": 2
}

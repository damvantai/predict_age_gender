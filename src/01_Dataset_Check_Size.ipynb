{
 "cells": [
  {
   "cell_type": "markdown",
   "metadata": {},
   "source": [
    "## Check size image"
   ]
  },
  {
   "cell_type": "code",
   "execution_count": 100,
   "metadata": {},
   "outputs": [],
   "source": [
    "import collections\n",
    "import cv2\n",
    "import numpy\n",
    "import os\n",
    "import shutil\n",
    "import matplotlib.pyplot as plt"
   ]
  },
  {
   "cell_type": "code",
   "execution_count": 103,
   "metadata": {},
   "outputs": [],
   "source": [
    "path = \"../data/UTKFace/\"\n",
    "path_classification = \"../data/UTKFace_processed/train/\"\n",
    "path_augmentation = \"../data/UTKFace_processed_augmentation/train/\"\n",
    "path_val = \"../data/UTKFace_processed_augmentation/val/\""
   ]
  },
  {
   "cell_type": "code",
   "execution_count": 13,
   "metadata": {},
   "outputs": [],
   "source": [
    "# for i in range(116):\n",
    "#     os.makedirs(\"../data/UTKFace_processed/{}\".format(i+1))"
   ]
  },
  {
   "cell_type": "code",
   "execution_count": 9,
   "metadata": {},
   "outputs": [],
   "source": [
    "for filename in os.listdir(path):\n",
    "    age = filename.split(\"_\")[0]\n",
    "    path_src = path + filename\n",
    "    path_dest = \"../data/UTKFace_processed/train/\" + str(age)\n",
    "    shutil.copy(path_src, path_dest)"
   ]
  },
  {
   "cell_type": "code",
   "execution_count": 104,
   "metadata": {},
   "outputs": [],
   "source": [
    "### Create 116 folder in val\n",
    "for number in range(1, 117, 1):\n",
    "    folder = path_val + str(number)\n",
    "    os.mkdir(folder)"
   ]
  },
  {
   "cell_type": "markdown",
   "metadata": {},
   "source": [
    "## Keras training"
   ]
  },
  {
   "cell_type": "code",
   "execution_count": 13,
   "metadata": {},
   "outputs": [],
   "source": [
    "from keras.preprocessing.image import ImageDataGenerator, array_to_img, img_to_array, load_img"
   ]
  },
  {
   "cell_type": "markdown",
   "metadata": {},
   "source": [
    "## Data pre-processing and data augmentation"
   ]
  },
  {
   "cell_type": "code",
   "execution_count": 43,
   "metadata": {},
   "outputs": [],
   "source": [
    "datagen = ImageDataGenerator(rotation_range=40,\n",
    "                            width_shift_range=0.2,\n",
    "                            height_shift_range=0.2,\n",
    "                            rescale=1./255,\n",
    "                            shear_range=0.4,\n",
    "                            zoom_range=0.2,\n",
    "                            horizontal_flip=True,\n",
    "                            fill_mode = 'nearest')"
   ]
  },
  {
   "cell_type": "code",
   "execution_count": 45,
   "metadata": {},
   "outputs": [],
   "source": [
    "img = load_img('../data/UTKFace_processed/train/1/1_0_0_20161219140623097.jpg.chip.jpg')\n",
    "x = img_to_array(img)\n",
    "x = x.reshape((1,) + x.shape)\n",
    "i = 0\n",
    "for batch in datagen.flow(x, batch_size=1,\n",
    "                         save_to_dir='preview', save_prefix='1', save_format='jpeg'):\n",
    "    i += 1\n",
    "    if i > 20:\n",
    "        break"
   ]
  },
  {
   "cell_type": "code",
   "execution_count": 84,
   "metadata": {},
   "outputs": [],
   "source": [
    "dict_age_numberperson = {}"
   ]
  },
  {
   "cell_type": "code",
   "execution_count": 85,
   "metadata": {
    "scrolled": true
   },
   "outputs": [],
   "source": [
    "for folder in os.listdir(path_classification):\n",
    "    path_folder = path_classification + str(folder) + \"/\"\n",
    "    number = len(os.listdir(path_folder))\n",
    "    dict_age_numberperson[int(folder)] = number\n",
    "#     print(number)"
   ]
  },
  {
   "cell_type": "code",
   "execution_count": 86,
   "metadata": {
    "collapsed": true
   },
   "outputs": [
    {
     "data": {
      "text/plain": [
       "{25: 734,\n",
       " 34: 409,\n",
       " 91: 2,\n",
       " 104: 0,\n",
       " 95: 9,\n",
       " 51: 138,\n",
       " 68: 100,\n",
       " 50: 381,\n",
       " 40: 526,\n",
       " 23: 426,\n",
       " 8: 263,\n",
       " 101: 2,\n",
       " 24: 859,\n",
       " 31: 350,\n",
       " 88: 34,\n",
       " 22: 395,\n",
       " 27: 615,\n",
       " 106: 0,\n",
       " 48: 153,\n",
       " 47: 170,\n",
       " 96: 17,\n",
       " 12: 130,\n",
       " 1: 1123,\n",
       " 99: 9,\n",
       " 73: 63,\n",
       " 42: 266,\n",
       " 16: 247,\n",
       " 64: 50,\n",
       " 90: 82,\n",
       " 33: 143,\n",
       " 74: 32,\n",
       " 44: 100,\n",
       " 3: 289,\n",
       " 2: 482,\n",
       " 4: 273,\n",
       " 72: 98,\n",
       " 13: 81,\n",
       " 32: 664,\n",
       " 92: 13,\n",
       " 38: 325,\n",
       " 105: 5,\n",
       " 37: 293,\n",
       " 19: 98,\n",
       " 49: 148,\n",
       " 20: 284,\n",
       " 30: 724,\n",
       " 58: 271,\n",
       " 115: 3,\n",
       " 54: 353,\n",
       " 87: 10,\n",
       " 83: 18,\n",
       " 41: 132,\n",
       " 89: 33,\n",
       " 7: 139,\n",
       " 110: 5,\n",
       " 113: 0,\n",
       " 98: 0,\n",
       " 78: 69,\n",
       " 46: 153,\n",
       " 65: 259,\n",
       " 116: 4,\n",
       " 63: 103,\n",
       " 26: 2197,\n",
       " 75: 148,\n",
       " 81: 22,\n",
       " 52: 232,\n",
       " 114: 0,\n",
       " 69: 56,\n",
       " 108: 0,\n",
       " 100: 11,\n",
       " 39: 266,\n",
       " 86: 35,\n",
       " 11: 65,\n",
       " 103: 1,\n",
       " 61: 161,\n",
       " 10: 156,\n",
       " 15: 177,\n",
       " 35: 880,\n",
       " 29: 570,\n",
       " 55: 268,\n",
       " 79: 23,\n",
       " 60: 293,\n",
       " 9: 166,\n",
       " 97: 0,\n",
       " 28: 918,\n",
       " 56: 236,\n",
       " 43: 157,\n",
       " 71: 33,\n",
       " 84: 24,\n",
       " 109: 0,\n",
       " 6: 131,\n",
       " 17: 158,\n",
       " 21: 346,\n",
       " 14: 157,\n",
       " 66: 77,\n",
       " 107: 0,\n",
       " 94: 0,\n",
       " 67: 94,\n",
       " 18: 262,\n",
       " 111: 1,\n",
       " 5: 196,\n",
       " 80: 133,\n",
       " 112: 0,\n",
       " 59: 82,\n",
       " 93: 5,\n",
       " 45: 440,\n",
       " 57: 97,\n",
       " 36: 483,\n",
       " 70: 147,\n",
       " 53: 241,\n",
       " 85: 155,\n",
       " 102: 0,\n",
       " 82: 40,\n",
       " 62: 125,\n",
       " 76: 58,\n",
       " 77: 28}"
      ]
     },
     "execution_count": 86,
     "metadata": {},
     "output_type": "execute_result"
    }
   ],
   "source": [
    "dict_age_numberperson"
   ]
  },
  {
   "cell_type": "code",
   "execution_count": null,
   "metadata": {},
   "outputs": [],
   "source": []
  },
  {
   "cell_type": "code",
   "execution_count": 87,
   "metadata": {},
   "outputs": [],
   "source": [
    "dict_age_person_sorted = collections.OrderedDict(sorted(dict_age_numberperson.items()))"
   ]
  },
  {
   "cell_type": "code",
   "execution_count": 88,
   "metadata": {
    "collapsed": true
   },
   "outputs": [
    {
     "data": {
      "text/plain": [
       "OrderedDict([(1, 1123),\n",
       "             (2, 482),\n",
       "             (3, 289),\n",
       "             (4, 273),\n",
       "             (5, 196),\n",
       "             (6, 131),\n",
       "             (7, 139),\n",
       "             (8, 263),\n",
       "             (9, 166),\n",
       "             (10, 156),\n",
       "             (11, 65),\n",
       "             (12, 130),\n",
       "             (13, 81),\n",
       "             (14, 157),\n",
       "             (15, 177),\n",
       "             (16, 247),\n",
       "             (17, 158),\n",
       "             (18, 262),\n",
       "             (19, 98),\n",
       "             (20, 284),\n",
       "             (21, 346),\n",
       "             (22, 395),\n",
       "             (23, 426),\n",
       "             (24, 859),\n",
       "             (25, 734),\n",
       "             (26, 2197),\n",
       "             (27, 615),\n",
       "             (28, 918),\n",
       "             (29, 570),\n",
       "             (30, 724),\n",
       "             (31, 350),\n",
       "             (32, 664),\n",
       "             (33, 143),\n",
       "             (34, 409),\n",
       "             (35, 880),\n",
       "             (36, 483),\n",
       "             (37, 293),\n",
       "             (38, 325),\n",
       "             (39, 266),\n",
       "             (40, 526),\n",
       "             (41, 132),\n",
       "             (42, 266),\n",
       "             (43, 157),\n",
       "             (44, 100),\n",
       "             (45, 440),\n",
       "             (46, 153),\n",
       "             (47, 170),\n",
       "             (48, 153),\n",
       "             (49, 148),\n",
       "             (50, 381),\n",
       "             (51, 138),\n",
       "             (52, 232),\n",
       "             (53, 241),\n",
       "             (54, 353),\n",
       "             (55, 268),\n",
       "             (56, 236),\n",
       "             (57, 97),\n",
       "             (58, 271),\n",
       "             (59, 82),\n",
       "             (60, 293),\n",
       "             (61, 161),\n",
       "             (62, 125),\n",
       "             (63, 103),\n",
       "             (64, 50),\n",
       "             (65, 259),\n",
       "             (66, 77),\n",
       "             (67, 94),\n",
       "             (68, 100),\n",
       "             (69, 56),\n",
       "             (70, 147),\n",
       "             (71, 33),\n",
       "             (72, 98),\n",
       "             (73, 63),\n",
       "             (74, 32),\n",
       "             (75, 148),\n",
       "             (76, 58),\n",
       "             (77, 28),\n",
       "             (78, 69),\n",
       "             (79, 23),\n",
       "             (80, 133),\n",
       "             (81, 22),\n",
       "             (82, 40),\n",
       "             (83, 18),\n",
       "             (84, 24),\n",
       "             (85, 155),\n",
       "             (86, 35),\n",
       "             (87, 10),\n",
       "             (88, 34),\n",
       "             (89, 33),\n",
       "             (90, 82),\n",
       "             (91, 2),\n",
       "             (92, 13),\n",
       "             (93, 5),\n",
       "             (94, 0),\n",
       "             (95, 9),\n",
       "             (96, 17),\n",
       "             (97, 0),\n",
       "             (98, 0),\n",
       "             (99, 9),\n",
       "             (100, 11),\n",
       "             (101, 2),\n",
       "             (102, 0),\n",
       "             (103, 1),\n",
       "             (104, 0),\n",
       "             (105, 5),\n",
       "             (106, 0),\n",
       "             (107, 0),\n",
       "             (108, 0),\n",
       "             (109, 0),\n",
       "             (110, 5),\n",
       "             (111, 1),\n",
       "             (112, 0),\n",
       "             (113, 0),\n",
       "             (114, 0),\n",
       "             (115, 3),\n",
       "             (116, 4)])"
      ]
     },
     "execution_count": 88,
     "metadata": {},
     "output_type": "execute_result"
    }
   ],
   "source": [
    "dict_age_person_sorted"
   ]
  },
  {
   "cell_type": "code",
   "execution_count": 89,
   "metadata": {},
   "outputs": [
    {
     "data": {
      "image/png": "[encoded data removed]",
      "text/plain": [
       "<Figure size 432x288 with 1 Axes>"
      ]
     },
     "metadata": {},
     "output_type": "display_data"
    }
   ],
   "source": [
    "# dict_age_numberperson\n",
    "plt.bar(list(dict_age_person_sorted.keys()), list(dict_age_person_sorted.values()), align='center')\n",
    "# plt.xticks(range(len(dict_age_numberperson), list(dict_age_numberperson.keys())))\n",
    "# fig = plt.figure()\n",
    "plt.savefig('statistic_age')\n",
    "plt.show()"
   ]
  },
  {
   "cell_type": "code",
   "execution_count": 59,
   "metadata": {},
   "outputs": [
    {
     "data": {
      "text/plain": [
       "426"
      ]
     },
     "execution_count": 59,
     "metadata": {},
     "output_type": "execute_result"
    }
   ],
   "source": [
    "dict_age_numberperson['23']"
   ]
  },
  {
   "cell_type": "code",
   "execution_count": 97,
   "metadata": {},
   "outputs": [],
   "source": [
    "for folder in os.listdir(path_classification):\n",
    "    path_folder = path_classification + str(folder) + \"/\"\n",
    "    path_folder_augmentation = path_augmentation + str(folder) + \"/\"\n",
    "    for filename in os.listdir(path_folder):\n",
    "        name_split = filename.split(\"_\")\n",
    "        save_name_prefix = name_split[0] + \"_\" + name_split[1]\n",
    "        img = load_img(path_folder + filename)\n",
    "        x = img_to_array(img)\n",
    "        x = x.reshape((1, ) + x.shape)\n",
    "        i = 0\n",
    "        if dict_age_person_sorted[int(folder)] >= 500:\n",
    "            \n",
    "            for batch in datagen.flow(x, batch_size=1,\n",
    "                                     save_to_dir=path_folder_augmentation,\n",
    "                                     save_prefix=save_name_prefix,\n",
    "                                     save_format='jpg'):\n",
    "                i += 1\n",
    "                if i > 5:\n",
    "                    break\n",
    "        if dict_age_person_sorted[int(folder)] < 500:\n",
    "            \n",
    "            for batch in datagen.flow(x, batch_size=1,\n",
    "                                     save_to_dir=path_folder_augmentation,\n",
    "                                     save_prefix=save_name_prefix,\n",
    "                                     save_format='jpg'):\n",
    "                i += 1\n",
    "                if i > 20:\n",
    "                    break"
   ]
  },
  {
   "cell_type": "code",
   "execution_count": 98,
   "metadata": {},
   "outputs": [
    {
     "name": "stdout",
     "output_type": "stream",
     "text": [
      "327010\n"
     ]
    }
   ],
   "source": [
    "sum_img_augmentation = 0\n",
    "for age in range(1, 117, 1):\n",
    "    if dict_age_person_sorted[age] >= 500:\n",
    "        sum_img_augmentation += dict_age_person_sorted[age] * 5\n",
    "    if dict_age_person_sorted[age] < 500:\n",
    "        sum_img_augmentation += dict_age_person_sorted[age] * 20\n",
    "print(sum_img_augmentation)"
   ]
  },
  {
   "cell_type": "code",
   "execution_count": 99,
   "metadata": {
    "collapsed": true
   },
   "outputs": [
    {
     "name": "stdout",
     "output_type": "stream",
     "text": [
      "1\n",
      "2\n",
      "3\n",
      "4\n",
      "5\n",
      "6\n",
      "7\n",
      "8\n",
      "9\n",
      "10\n",
      "11\n",
      "12\n",
      "13\n",
      "14\n",
      "15\n",
      "16\n",
      "17\n",
      "18\n",
      "19\n",
      "20\n",
      "21\n",
      "22\n",
      "23\n",
      "24\n",
      "25\n",
      "26\n",
      "27\n",
      "28\n",
      "29\n",
      "30\n",
      "31\n",
      "32\n",
      "33\n",
      "34\n",
      "35\n",
      "36\n",
      "37\n",
      "38\n",
      "39\n",
      "40\n",
      "41\n",
      "42\n",
      "43\n",
      "44\n",
      "45\n",
      "46\n",
      "47\n",
      "48\n",
      "49\n",
      "50\n",
      "51\n",
      "52\n",
      "53\n",
      "54\n",
      "55\n",
      "56\n",
      "57\n",
      "58\n",
      "59\n",
      "60\n",
      "61\n",
      "62\n",
      "63\n",
      "64\n",
      "65\n",
      "66\n",
      "67\n",
      "68\n",
      "69\n",
      "70\n",
      "71\n",
      "72\n",
      "73\n",
      "74\n",
      "75\n",
      "76\n",
      "77\n",
      "78\n",
      "79\n",
      "80\n",
      "81\n",
      "82\n",
      "83\n",
      "84\n",
      "85\n",
      "86\n",
      "87\n",
      "88\n",
      "89\n",
      "90\n",
      "91\n",
      "92\n",
      "93\n",
      "94\n",
      "95\n",
      "96\n",
      "97\n",
      "98\n",
      "99\n",
      "100\n",
      "101\n",
      "102\n",
      "103\n",
      "104\n",
      "105\n",
      "106\n",
      "107\n",
      "108\n",
      "109\n",
      "110\n",
      "111\n",
      "112\n",
      "113\n",
      "114\n",
      "115\n",
      "116\n"
     ]
    }
   ],
   "source": [
    "for age in range(1, 117, 1):\n",
    "    print(age)"
   ]
  },
  {
   "cell_type": "markdown",
   "metadata": {},
   "source": [
    "## Split data from wiki-crop"
   ]
  },
  {
   "cell_type": "code",
   "execution_count": 123,
   "metadata": {},
   "outputs": [],
   "source": [
    "for filename in os.listdir(\"../data/UTKFace_processed_augmentation/test/\"):\n",
    "    name = filename.split(\"_\")\n",
    "    born_year = name[1].split(\"-\")[0]\n",
    "    dead_year = name[2].split(\".\")[0]\n",
    "#     print(born_year, dead_year)\n",
    "    time = int(dead_year) - int(born_year)\n",
    "    path_src = \"../data/UTKFace_processed_augmentation/test/\" + filename\n",
    "    path_dest = \"../data/UTKFace_processed_augmentation/val/\" + str(time)\n",
    "    shutil.copy(path_src, path_dest)"
   ]
  },
  {
   "cell_type": "code",
   "execution_count": null,
   "metadata": {},
   "outputs": [],
   "source": []
  }
 ],
 "metadata": {
  "kernelspec": {
   "display_name": "Python 3",
   "language": "python",
   "name": "python3"
  },
  "language_info": {
   "codemirror_mode": {
    "name": "ipython",
    "version": 3
   },
   "file_extension": ".py",
   "mimetype": "text/x-python",
   "name": "python",
   "nbconvert_exporter": "python",
   "pygments_lexer": "ipython3",
   "version": "3.6.5"
  }
 },
 "nbformat": 4,
 "nbformat_minor": 2
}

{
 "cells": [
  {
   "cell_type": "code",
   "execution_count": 1,
   "metadata": {},
   "outputs": [
    {
     "name": "stderr",
     "output_type": "stream",
     "text": [
      "Using TensorFlow backend.\n"
     ]
    }
   ],
   "source": [
    "from keras.models import Sequential\n",
    "from keras.layers import Conv2D, MaxPooling2D\n",
    "from keras.layers import Activation, Dropout, Flatten, Dense\n",
    "from keras.preprocessing.image import ImageDataGenerator, array_to_img, img_to_array, load_img\n"
   ]
  },
  {
   "cell_type": "code",
   "execution_count": 2,
   "metadata": {},
   "outputs": [
    {
     "name": "stderr",
     "output_type": "stream",
     "text": [
      "/usr/local/lib/python3.6/dist-packages/ipykernel_launcher.py:18: UserWarning: Update your `Dense` call to the Keras 2 API: `Dense(activation=\"softmax\", units=116)`\n"
     ]
    }
   ],
   "source": [
    "model = Sequential()\n",
    "model.add(Conv2D(32, (3, 3), input_shape=(200, 200, 3)))\n",
    "model.add(Activation('relu'))\n",
    "model.add(MaxPooling2D(pool_size=(2, 2)))\n",
    "\n",
    "model.add(Conv2D(32, (3, 3)))\n",
    "model.add(Activation('relu'))\n",
    "model.add(MaxPooling2D(pool_size=(2, 2)))\n",
    "\n",
    "model.add(Conv2D(64, (3, 3)))\n",
    "model.add(Activation('relu'))\n",
    "model.add(MaxPooling2D(pool_size=(2, 2)))\n",
    "\n",
    "model.add(Flatten())\n",
    "model.add(Dense(64))\n",
    "model.add(Activation('relu'))\n",
    "model.add(Dropout(0.5))\n",
    "model.add(Dense(output_dim=116, activation='softmax'))\n",
    "model.compile(loss='categorical_crossentropy',\n",
    "             optimizer='rmsprop',\n",
    "             metrics=['accuracy'])"
   ]
  },
  {
   "cell_type": "code",
   "execution_count": 3,
   "metadata": {},
   "outputs": [],
   "source": [
    "batch_size = 16\n",
    "train_datagen = ImageDataGenerator(\n",
    "    rescale=1./255,\n",
    "    shear_range = 0.2,\n",
    "    zoom_range = 0.2,\n",
    "    horizontal_flip = True\n",
    ")\n",
    "test_datagen = ImageDataGenerator(rescale=1./255)"
   ]
  },
  {
   "cell_type": "code",
   "execution_count": 4,
   "metadata": {},
   "outputs": [
    {
     "name": "stdout",
     "output_type": "stream",
     "text": [
      "Found 327188 images belonging to 116 classes.\n",
      "Found 2996 images belonging to 116 classes.\n"
     ]
    }
   ],
   "source": [
    "# Load data\n",
    "train_generator = train_datagen.flow_from_directory(\n",
    "    '../data/UTKFace_processed_augmentation/train/',\n",
    "    target_size=(200, 200),\n",
    "    batch_size=batch_size\n",
    ")\n",
    "validation_generator = test_datagen.flow_from_directory(\n",
    "    '../data/UTKFace_processed_augmentation/val/',\n",
    "    target_size=(200, 200),\n",
    "    batch_size=batch_size\n",
    ")"
   ]
  },
  {
   "cell_type": "code",
   "execution_count": 5,
   "metadata": {},
   "outputs": [],
   "source": [
    "nb_train_samples = 327188\n",
    "epochs = 50\n",
    "nb_validation_samples = 2996"
   ]
  },
  {
   "cell_type": "code",
   "execution_count": 6,
   "metadata": {},
   "outputs": [
    {
     "name": "stderr",
     "output_type": "stream",
     "text": [
      "/usr/local/lib/python3.6/dist-packages/ipykernel_launcher.py:6: UserWarning: The semantics of the Keras 2 argument `steps_per_epoch` is not the same as the Keras 1 argument `samples_per_epoch`. `steps_per_epoch` is the number of batches to draw from the generator at each epoch. Basically steps_per_epoch = samples_per_epoch/batch_size. Similarly `nb_val_samples`->`validation_steps` and `val_samples`->`steps` arguments have changed. Update your method calls accordingly.\n",
      "  \n",
      "/usr/local/lib/python3.6/dist-packages/ipykernel_launcher.py:6: UserWarning: Update your `fit_generator` call to the Keras 2 API: `fit_generator(<keras_pre..., epochs=50, validation_data=<keras_pre..., steps_per_epoch=20449, validation_steps=2996)`\n",
      "  \n"
     ]
    },
    {
     "name": "stdout",
     "output_type": "stream",
     "text": [
      "Epoch 1/50\n",
      "20449/20449 [==============================] - 2394s 117ms/step - loss: 4.2972 - acc: 0.0436 - val_loss: 4.5588 - val_acc: 0.0310\n",
      "Epoch 2/50\n",
      "20449/20449 [==============================] - 2350s 115ms/step - loss: 4.3054 - acc: 0.0465 - val_loss: 4.5340 - val_acc: 0.0297\n",
      "Epoch 3/50\n",
      "20449/20449 [==============================] - 2367s 116ms/step - loss: 4.3564 - acc: 0.0420 - val_loss: 4.5056 - val_acc: 0.0173\n",
      "Epoch 4/50\n",
      "20449/20449 [==============================] - 2367s 116ms/step - loss: 4.3558 - acc: 0.0422 - val_loss: 4.4933 - val_acc: 0.0137\n",
      "Epoch 5/50\n",
      "20449/20449 [==============================] - 2332s 114ms/step - loss: 4.3626 - acc: 0.0398 - val_loss: 4.4912 - val_acc: 0.0237\n",
      "Epoch 6/50\n",
      "20449/20449 [==============================] - 2322s 114ms/step - loss: 4.3580 - acc: 0.0426 - val_loss: 4.4952 - val_acc: 0.0347\n",
      "Epoch 7/50\n",
      "20449/20449 [==============================] - 2348s 115ms/step - loss: 4.3610 - acc: 0.0420 - val_loss: 4.4648 - val_acc: 0.0256\n",
      "Epoch 8/50\n",
      "20449/20449 [==============================] - 2323s 114ms/step - loss: 4.3574 - acc: 0.0411 - val_loss: 4.5062 - val_acc: 0.0070\n",
      "Epoch 9/50\n",
      "20449/20449 [==============================] - 2347s 115ms/step - loss: 4.3730 - acc: 0.0362 - val_loss: 4.4782 - val_acc: 0.0380\n",
      "Epoch 10/50\n",
      "20449/20449 [==============================] - 2331s 114ms/step - loss: 4.3793 - acc: 0.0361 - val_loss: 4.4477 - val_acc: 0.0381\n",
      "Epoch 11/50\n",
      "20449/20449 [==============================] - 2338s 114ms/step - loss: 4.3826 - acc: 0.0361 - val_loss: 4.4427 - val_acc: 0.0380\n",
      "Epoch 12/50\n",
      "20449/20449 [==============================] - 2339s 114ms/step - loss: 4.3818 - acc: 0.0360 - val_loss: 4.4494 - val_acc: 0.0381\n",
      "Epoch 13/50\n",
      "20449/20449 [==============================] - 2339s 114ms/step - loss: 4.3820 - acc: 0.0361 - val_loss: 4.4466 - val_acc: 0.0380\n",
      "Epoch 14/50\n",
      "20449/20449 [==============================] - 2315s 113ms/step - loss: 4.3825 - acc: 0.0361 - val_loss: 4.4447 - val_acc: 0.0381\n",
      "Epoch 15/50\n",
      "20449/20449 [==============================] - 2321s 114ms/step - loss: 4.3821 - acc: 0.0361 - val_loss: 4.4503 - val_acc: 0.0380\n",
      "Epoch 16/50\n",
      "20449/20449 [==============================] - 2314s 113ms/step - loss: 4.3817 - acc: 0.0361 - val_loss: 4.4455 - val_acc: 0.0381\n",
      "Epoch 17/50\n",
      "20449/20449 [==============================] - 2343s 115ms/step - loss: 4.3811 - acc: 0.0361 - val_loss: 4.4454 - val_acc: 0.0381\n",
      "Epoch 18/50\n",
      "20449/20449 [==============================] - 2317s 113ms/step - loss: 4.3816 - acc: 0.0360 - val_loss: 4.4459 - val_acc: 0.0381\n",
      "Epoch 19/50\n",
      "20449/20449 [==============================] - 2338s 114ms/step - loss: 4.3811 - acc: 0.0361 - val_loss: 4.4471 - val_acc: 0.0381\n",
      "Epoch 20/50\n",
      "20449/20449 [==============================] - 2344s 115ms/step - loss: 4.3820 - acc: 0.0361 - val_loss: 4.4481 - val_acc: 0.0381\n",
      "Epoch 21/50\n",
      "20449/20449 [==============================] - 2342s 115ms/step - loss: 4.3817 - acc: 0.0361 - val_loss: 4.4508 - val_acc: 0.0380\n",
      "Epoch 22/50\n",
      "20449/20449 [==============================] - 2316s 113ms/step - loss: 4.3826 - acc: 0.0361 - val_loss: 4.4382 - val_acc: 0.0382\n",
      "Epoch 23/50\n",
      "20449/20449 [==============================] - 2341s 114ms/step - loss: 4.3816 - acc: 0.0360 - val_loss: 4.4462 - val_acc: 0.0380\n",
      "Epoch 24/50\n",
      "20449/20449 [==============================] - 2358s 115ms/step - loss: 4.3818 - acc: 0.0361 - val_loss: 4.4513 - val_acc: 0.0380\n",
      "Epoch 25/50\n",
      "20449/20449 [==============================] - 2338s 114ms/step - loss: 4.3826 - acc: 0.0361 - val_loss: 4.4491 - val_acc: 0.0380\n",
      "Epoch 26/50\n",
      "20449/20449 [==============================] - 2316s 113ms/step - loss: 4.3827 - acc: 0.0360 - val_loss: 4.4509 - val_acc: 0.0381\n",
      "Epoch 27/50\n",
      "20449/20449 [==============================] - 2317s 113ms/step - loss: 4.3823 - acc: 0.0361 - val_loss: 4.4449 - val_acc: 0.0381\n",
      "Epoch 28/50\n",
      "20449/20449 [==============================] - 2336s 114ms/step - loss: 4.3819 - acc: 0.0361 - val_loss: 4.4462 - val_acc: 0.0381\n",
      "Epoch 29/50\n",
      "20449/20449 [==============================] - 2316s 113ms/step - loss: 4.3819 - acc: 0.0361 - val_loss: 4.4501 - val_acc: 0.0380\n",
      "Epoch 30/50\n",
      "20449/20449 [==============================] - 2339s 114ms/step - loss: 4.3817 - acc: 0.0361 - val_loss: 4.4469 - val_acc: 0.0381\n",
      "Epoch 31/50\n",
      "20449/20449 [==============================] - 2339s 114ms/step - loss: 4.3813 - acc: 0.0361 - val_loss: 4.4439 - val_acc: 0.0379\n",
      "Epoch 32/50\n",
      "20449/20449 [==============================] - 2340s 114ms/step - loss: 4.3810 - acc: 0.0361 - val_loss: 4.4444 - val_acc: 0.0380\n",
      "Epoch 33/50\n",
      "20449/20449 [==============================] - 2339s 114ms/step - loss: 4.3811 - acc: 0.0361 - val_loss: 4.4421 - val_acc: 0.0380\n",
      "Epoch 34/50\n",
      "20449/20449 [==============================] - 2319s 113ms/step - loss: 4.3819 - acc: 0.0361 - val_loss: 4.4486 - val_acc: 0.0380\n",
      "Epoch 35/50\n",
      "20449/20449 [==============================] - 2339s 114ms/step - loss: 4.3810 - acc: 0.0361 - val_loss: 4.4475 - val_acc: 0.0381\n",
      "Epoch 36/50\n",
      "20449/20449 [==============================] - 2340s 114ms/step - loss: 4.3823 - acc: 0.0360 - val_loss: 4.4414 - val_acc: 0.0380\n",
      "Epoch 37/50\n",
      "20449/20449 [==============================] - 2339s 114ms/step - loss: 4.3816 - acc: 0.0361 - val_loss: 4.4461 - val_acc: 0.0380\n",
      "Epoch 38/50\n",
      "20449/20449 [==============================] - 2343s 115ms/step - loss: 4.3814 - acc: 0.0361 - val_loss: 4.4476 - val_acc: 0.0380\n",
      "Epoch 39/50\n",
      "20449/20449 [==============================] - 2352s 115ms/step - loss: 4.3813 - acc: 0.0361 - val_loss: 4.4462 - val_acc: 0.0381\n",
      "Epoch 40/50\n",
      "20449/20449 [==============================] - 2338s 114ms/step - loss: 4.3819 - acc: 0.0361 - val_loss: 4.4466 - val_acc: 0.0380\n",
      "Epoch 41/50\n",
      "20449/20449 [==============================] - 2318s 113ms/step - loss: 4.3813 - acc: 0.0361 - val_loss: 4.4439 - val_acc: 0.0380\n",
      "Epoch 42/50\n",
      "20449/20449 [==============================] - 2341s 114ms/step - loss: 4.3821 - acc: 0.0361 - val_loss: 4.4506 - val_acc: 0.0381\n",
      "Epoch 43/50\n",
      "20449/20449 [==============================] - 2339s 114ms/step - loss: 4.3818 - acc: 0.0361 - val_loss: 4.4485 - val_acc: 0.0380\n",
      "Epoch 44/50\n",
      "20449/20449 [==============================] - 2323s 114ms/step - loss: 4.3826 - acc: 0.0361 - val_loss: 4.4484 - val_acc: 0.0381\n",
      "Epoch 45/50\n",
      "20449/20449 [==============================] - 2343s 115ms/step - loss: 4.3822 - acc: 0.0360 - val_loss: 4.4472 - val_acc: 0.0381\n",
      "Epoch 46/50\n",
      "20449/20449 [==============================] - 2320s 113ms/step - loss: 4.3813 - acc: 0.0361 - val_loss: 4.4497 - val_acc: 0.0381\n",
      "Epoch 47/50\n",
      "20449/20449 [==============================] - 2340s 114ms/step - loss: 4.3821 - acc: 0.0361 - val_loss: 4.4521 - val_acc: 0.0380\n",
      "Epoch 48/50\n",
      "20449/20449 [==============================] - 2341s 114ms/step - loss: 4.3815 - acc: 0.0360 - val_loss: 4.4475 - val_acc: 0.0381\n",
      "Epoch 49/50\n",
      "20449/20449 [==============================] - 2346s 115ms/step - loss: 4.3828 - acc: 0.0361 - val_loss: 4.4511 - val_acc: 0.0381\n",
      "Epoch 50/50\n",
      "20449/20449 [==============================] - 2340s 114ms/step - loss: 4.3818 - acc: 0.0361 - val_loss: 4.4416 - val_acc: 0.0380\n"
     ]
    },
    {
     "ename": "OSError",
     "evalue": "Unable to create file (unable to open file: name = 'weights/data-augmentation-basic-network/50-epochs.h5', errno = 2, error message = 'No such file or directory', flags = 13, o_flags = 242)",
     "output_type": "error",
     "traceback": [
      "\u001b[0;31m---------------------------------------------------------------------------\u001b[0m",
      "\u001b[0;31mOSError\u001b[0m                                   Traceback (most recent call last)",
      "\u001b[0;32m<ipython-input-6-faa9de092e20>\u001b[0m in \u001b[0;36m<module>\u001b[0;34m()\u001b[0m\n\u001b[1;32m      5\u001b[0m     \u001b[0mvalidation_data\u001b[0m\u001b[0;34m=\u001b[0m\u001b[0mvalidation_generator\u001b[0m\u001b[0;34m,\u001b[0m\u001b[0;34m\u001b[0m\u001b[0m\n\u001b[1;32m      6\u001b[0m     nb_val_samples=nb_validation_samples)\n\u001b[0;32m----> 7\u001b[0;31m \u001b[0mmodel\u001b[0m\u001b[0;34m.\u001b[0m\u001b[0msave_weights\u001b[0m\u001b[0;34m(\u001b[0m\u001b[0;34m'weights/data-augmentation-basic-network/50-epochs.h5'\u001b[0m\u001b[0;34m)\u001b[0m\u001b[0;34m\u001b[0m\u001b[0m\n\u001b[0m",
      "\u001b[0;32m/usr/local/lib/python3.6/dist-packages/keras/engine/network.py\u001b[0m in \u001b[0;36msave_weights\u001b[0;34m(self, filepath, overwrite)\u001b[0m\n\u001b[1;32m   1132\u001b[0m             \u001b[0;32mif\u001b[0m \u001b[0;32mnot\u001b[0m \u001b[0mproceed\u001b[0m\u001b[0;34m:\u001b[0m\u001b[0;34m\u001b[0m\u001b[0m\n\u001b[1;32m   1133\u001b[0m                 \u001b[0;32mreturn\u001b[0m\u001b[0;34m\u001b[0m\u001b[0m\n\u001b[0;32m-> 1134\u001b[0;31m         \u001b[0;32mwith\u001b[0m \u001b[0mh5py\u001b[0m\u001b[0;34m.\u001b[0m\u001b[0mFile\u001b[0m\u001b[0;34m(\u001b[0m\u001b[0mfilepath\u001b[0m\u001b[0;34m,\u001b[0m \u001b[0;34m'w'\u001b[0m\u001b[0;34m)\u001b[0m \u001b[0;32mas\u001b[0m \u001b[0mf\u001b[0m\u001b[0;34m:\u001b[0m\u001b[0;34m\u001b[0m\u001b[0m\n\u001b[0m\u001b[1;32m   1135\u001b[0m             \u001b[0msaving\u001b[0m\u001b[0;34m.\u001b[0m\u001b[0msave_weights_to_hdf5_group\u001b[0m\u001b[0;34m(\u001b[0m\u001b[0mf\u001b[0m\u001b[0;34m,\u001b[0m \u001b[0mself\u001b[0m\u001b[0;34m.\u001b[0m\u001b[0mlayers\u001b[0m\u001b[0;34m)\u001b[0m\u001b[0;34m\u001b[0m\u001b[0m\n\u001b[1;32m   1136\u001b[0m             \u001b[0mf\u001b[0m\u001b[0;34m.\u001b[0m\u001b[0mflush\u001b[0m\u001b[0;34m(\u001b[0m\u001b[0;34m)\u001b[0m\u001b[0;34m\u001b[0m\u001b[0m\n",
      "\u001b[0;32m/usr/local/lib/python3.6/dist-packages/h5py/_hl/files.py\u001b[0m in \u001b[0;36m__init__\u001b[0;34m(self, name, mode, driver, libver, userblock_size, swmr, **kwds)\u001b[0m\n\u001b[1;32m    310\u001b[0m             \u001b[0;32mwith\u001b[0m \u001b[0mphil\u001b[0m\u001b[0;34m:\u001b[0m\u001b[0;34m\u001b[0m\u001b[0m\n\u001b[1;32m    311\u001b[0m                 \u001b[0mfapl\u001b[0m \u001b[0;34m=\u001b[0m \u001b[0mmake_fapl\u001b[0m\u001b[0;34m(\u001b[0m\u001b[0mdriver\u001b[0m\u001b[0;34m,\u001b[0m \u001b[0mlibver\u001b[0m\u001b[0;34m,\u001b[0m \u001b[0;34m**\u001b[0m\u001b[0mkwds\u001b[0m\u001b[0;34m)\u001b[0m\u001b[0;34m\u001b[0m\u001b[0m\n\u001b[0;32m--> 312\u001b[0;31m                 \u001b[0mfid\u001b[0m \u001b[0;34m=\u001b[0m \u001b[0mmake_fid\u001b[0m\u001b[0;34m(\u001b[0m\u001b[0mname\u001b[0m\u001b[0;34m,\u001b[0m \u001b[0mmode\u001b[0m\u001b[0;34m,\u001b[0m \u001b[0muserblock_size\u001b[0m\u001b[0;34m,\u001b[0m \u001b[0mfapl\u001b[0m\u001b[0;34m,\u001b[0m \u001b[0mswmr\u001b[0m\u001b[0;34m=\u001b[0m\u001b[0mswmr\u001b[0m\u001b[0;34m)\u001b[0m\u001b[0;34m\u001b[0m\u001b[0m\n\u001b[0m\u001b[1;32m    313\u001b[0m \u001b[0;34m\u001b[0m\u001b[0m\n\u001b[1;32m    314\u001b[0m                 \u001b[0;32mif\u001b[0m \u001b[0mswmr_support\u001b[0m\u001b[0;34m:\u001b[0m\u001b[0;34m\u001b[0m\u001b[0m\n",
      "\u001b[0;32m/usr/local/lib/python3.6/dist-packages/h5py/_hl/files.py\u001b[0m in \u001b[0;36mmake_fid\u001b[0;34m(name, mode, userblock_size, fapl, fcpl, swmr)\u001b[0m\n\u001b[1;32m    146\u001b[0m         \u001b[0mfid\u001b[0m \u001b[0;34m=\u001b[0m \u001b[0mh5f\u001b[0m\u001b[0;34m.\u001b[0m\u001b[0mcreate\u001b[0m\u001b[0;34m(\u001b[0m\u001b[0mname\u001b[0m\u001b[0;34m,\u001b[0m \u001b[0mh5f\u001b[0m\u001b[0;34m.\u001b[0m\u001b[0mACC_EXCL\u001b[0m\u001b[0;34m,\u001b[0m \u001b[0mfapl\u001b[0m\u001b[0;34m=\u001b[0m\u001b[0mfapl\u001b[0m\u001b[0;34m,\u001b[0m \u001b[0mfcpl\u001b[0m\u001b[0;34m=\u001b[0m\u001b[0mfcpl\u001b[0m\u001b[0;34m)\u001b[0m\u001b[0;34m\u001b[0m\u001b[0m\n\u001b[1;32m    147\u001b[0m     \u001b[0;32melif\u001b[0m \u001b[0mmode\u001b[0m \u001b[0;34m==\u001b[0m \u001b[0;34m'w'\u001b[0m\u001b[0;34m:\u001b[0m\u001b[0;34m\u001b[0m\u001b[0m\n\u001b[0;32m--> 148\u001b[0;31m         \u001b[0mfid\u001b[0m \u001b[0;34m=\u001b[0m \u001b[0mh5f\u001b[0m\u001b[0;34m.\u001b[0m\u001b[0mcreate\u001b[0m\u001b[0;34m(\u001b[0m\u001b[0mname\u001b[0m\u001b[0;34m,\u001b[0m \u001b[0mh5f\u001b[0m\u001b[0;34m.\u001b[0m\u001b[0mACC_TRUNC\u001b[0m\u001b[0;34m,\u001b[0m \u001b[0mfapl\u001b[0m\u001b[0;34m=\u001b[0m\u001b[0mfapl\u001b[0m\u001b[0;34m,\u001b[0m \u001b[0mfcpl\u001b[0m\u001b[0;34m=\u001b[0m\u001b[0mfcpl\u001b[0m\u001b[0;34m)\u001b[0m\u001b[0;34m\u001b[0m\u001b[0m\n\u001b[0m\u001b[1;32m    149\u001b[0m     \u001b[0;32melif\u001b[0m \u001b[0mmode\u001b[0m \u001b[0;34m==\u001b[0m \u001b[0;34m'a'\u001b[0m\u001b[0;34m:\u001b[0m\u001b[0;34m\u001b[0m\u001b[0m\n\u001b[1;32m    150\u001b[0m         \u001b[0;31m# Open in append mode (read/write).\u001b[0m\u001b[0;34m\u001b[0m\u001b[0;34m\u001b[0m\u001b[0m\n",
      "\u001b[0;32mh5py/_objects.pyx\u001b[0m in \u001b[0;36mh5py._objects.with_phil.wrapper\u001b[0;34m()\u001b[0m\n",
      "\u001b[0;32mh5py/_objects.pyx\u001b[0m in \u001b[0;36mh5py._objects.with_phil.wrapper\u001b[0;34m()\u001b[0m\n",
      "\u001b[0;32mh5py/h5f.pyx\u001b[0m in \u001b[0;36mh5py.h5f.create\u001b[0;34m()\u001b[0m\n",
      "\u001b[0;31mOSError\u001b[0m: Unable to create file (unable to open file: name = 'weights/data-augmentation-basic-network/50-epochs.h5', errno = 2, error message = 'No such file or directory', flags = 13, o_flags = 242)"
     ]
    }
   ],
   "source": [
    "model.fit_generator(\n",
    "    train_generator,\n",
    "    samples_per_epoch=nb_train_samples,\n",
    "    epochs=epochs,\n",
    "    validation_data=validation_generator,\n",
    "    nb_val_samples=nb_validation_samples)\n",
    "model.save_weights('weights/data-augmentation-basic-network/50-epochs.h5')"
   ]
  },
  {
   "cell_type": "markdown",
   "metadata": {},
   "source": [
    "## Use pre-trained model"
   ]
  },
  {
   "cell_type": "code",
   "execution_count": null,
   "metadata": {},
   "outputs": [],
   "source": []
  }
 ],
 "metadata": {
  "kernelspec": {
   "display_name": "Python 3",
   "language": "python",
   "name": "python3"
  },
  "language_info": {
   "codemirror_mode": {
    "name": "ipython",
    "version": 3
   },
   "file_extension": ".py",
   "mimetype": "text/x-python",
   "name": "python",
   "nbconvert_exporter": "python",
   "pygments_lexer": "ipython3",
   "version": "3.6.5"
  }
 },
 "nbformat": 4,
 "nbformat_minor": 2
}
